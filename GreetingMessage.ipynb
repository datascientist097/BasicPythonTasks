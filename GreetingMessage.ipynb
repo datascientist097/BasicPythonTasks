{
 "cells": [
  {
   "cell_type": "markdown",
   "id": "ec62bfdd",
   "metadata": {},
   "source": [
    "# Greeting Message\n",
    "write a program that take user name as a input and greet him with a welcoming message with a personalized message using greeting variable\n",
    "\n"
   ]
  },
  {
   "cell_type": "code",
   "execution_count": 3,
   "id": "77c2fabe",
   "metadata": {},
   "outputs": [
    {
     "name": "stdout",
     "output_type": "stream",
     "text": [
      "Enter Your Name:Ahmed\n",
      "Hello,Ahmed!Welcome to Data Science Club\n"
     ]
    }
   ],
   "source": [
    "user_name = input(\"Enter Your Name:\")\n",
    "\n",
    "Greeting = \"Hello\"\n",
    "Personalized_Message = \"Welcome to Data Science Club\"\n",
    "\n",
    "#Print Results\n",
    "print(f\"{Greeting},{user_name}!{Personalized_Message}\")"
   ]
  },
  {
   "cell_type": "markdown",
   "id": "c7ee27c5",
   "metadata": {},
   "source": [
    "# Personalized Message as role"
   ]
  },
  {
   "cell_type": "code",
   "execution_count": 4,
   "id": "03d417fc",
   "metadata": {},
   "outputs": [
    {
     "name": "stdout",
     "output_type": "stream",
     "text": [
      "Enter your role (student/teacher): Teacher\n",
      "Enter your name: Ahmed\n",
      "Hello, Ahmed! Hello, teacher! Thank you for educating.\n"
     ]
    }
   ],
   "source": [
    "# Personalized Message as role\n",
    "\n",
    "user_role = input(\"Enter your role (student/teacher): \").lower()\n",
    "\n",
    "# Get user name as input\n",
    "user_name = input(\"Enter your name: \")\n",
    "\n",
    "# Default greeting message\n",
    "greeting = \"Hello\"\n",
    "\n",
    "# Display personalized message based on user role\n",
    "if user_role == \"student\":\n",
    "    personalized_message = \"Welcome, student! Get ready to learn.\"\n",
    "elif user_role == \"teacher\":\n",
    "    personalized_message = \"Hello, teacher! Thank you for educating.\"\n",
    "else:\n",
    "    personalized_message = \"Welcome to Data Science Club!\"\n",
    "\n",
    "# Display the greeting with the personalized message\n",
    "print(f\"{greeting}, {user_name}! {personalized_message}\")\n"
   ]
  }
 ],
 "metadata": {
  "kernelspec": {
   "display_name": "Python 3 (ipykernel)",
   "language": "python",
   "name": "python3"
  },
  "language_info": {
   "codemirror_mode": {
    "name": "ipython",
    "version": 3
   },
   "file_extension": ".py",
   "mimetype": "text/x-python",
   "name": "python",
   "nbconvert_exporter": "python",
   "pygments_lexer": "ipython3",
   "version": "3.11.5"
  }
 },
 "nbformat": 4,
 "nbformat_minor": 5
}
