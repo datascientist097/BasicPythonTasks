{
 "cells": [
  {
   "cell_type": "markdown",
   "id": "12412c66",
   "metadata": {},
   "source": [
    "# Age by DOB"
   ]
  },
  {
   "cell_type": "markdown",
   "id": "9695bfd2",
   "metadata": {},
   "source": [
    "write a program that calculates the person age based on there brthdate prompt the user to enter there birth year month and day as an integer and calculate there age in years and display the results"
   ]
  },
  {
   "cell_type": "code",
   "execution_count": 2,
   "id": "fe6f48dd",
   "metadata": {},
   "outputs": [],
   "source": [
    "from datetime import date\n",
    "\n",
    "Birth_day = int(input(\"Enter Your Birth Day:\"))\n",
    "Birth_month = int(input(\"Enter Your Birth Month:\"))\n",
    "Birth_year = int(input(\"Enter Your Birth Year:\"))\n",
    "\n",
    "\n",
    "\n",
    "current_date = date.today()\n",
    "\n",
    "# Calculate the age\n",
    "#current year = 2024 - Birth year = 2001 (assumed) - then it compare current month and current date tuple with birth month and day to check if the bith is occured or not\n",
    "age = current_date.year - Birth_year - ((current_date.month, current_date.day) < (Birth_month, Birth_day))\n",
    "\n",
    "#show results\n",
    "print(f\"Your age is{age} Years\")"
   ]
  },
  {
   "cell_type": "code",
   "execution_count": 1,
   "id": "a68e9598",
   "metadata": {},
   "outputs": [
    {
     "name": "stdout",
     "output_type": "stream",
     "text": [
      "Requirement already satisfied: tkcalendar in c:\\users\\rajaa\\anaconda3\\lib\\site-packages (1.6.1)\n",
      "Requirement already satisfied: babel in c:\\users\\rajaa\\anaconda3\\lib\\site-packages (from tkcalendar) (2.11.0)\n",
      "Requirement already satisfied: pytz>=2015.7 in c:\\users\\rajaa\\anaconda3\\lib\\site-packages (from babel->tkcalendar) (2023.3.post1)\n"
     ]
    }
   ],
   "source": [
    "!pip install tkcalendar"
   ]
  },
  {
   "cell_type": "code",
   "execution_count": 20,
   "id": "3b1a9187",
   "metadata": {},
   "outputs": [
    {
     "name": "stdout",
     "output_type": "stream",
     "text": [
      "Enter Your Birth Date (DD/MM/YYYY): 17/07/2001\n",
      "Your age is 22 years.\n"
     ]
    }
   ],
   "source": [
    "from datetime import date\n",
    "from tkcalendar import Calendar\n",
    "\n",
    "# Get user's birth date, month, and year in a single input\n",
    "birth_date_input = input(\"Enter Your Birth Date (DD/MM/YYYY): \")\n",
    "\n",
    "# Extract day, month, and year from the input\n",
    "birth_day, birth_month, birth_year = map(int, birth_date_input.split('/'))\n",
    "\n",
    "# Get the current date\n",
    "current_date = date.today()\n",
    "\n",
    "# Calculate the age\n",
    "age = current_date.year - birth_year - ((current_date.month, current_date.day) < (birth_month, birth_day))\n",
    "\n",
    "# Show results\n",
    "print(f\"Your age is {age} years.\")\n"
   ]
  }
 ],
 "metadata": {
  "kernelspec": {
   "display_name": "Python 3 (ipykernel)",
   "language": "python",
   "name": "python3"
  },
  "language_info": {
   "codemirror_mode": {
    "name": "ipython",
    "version": 3
   },
   "file_extension": ".py",
   "mimetype": "text/x-python",
   "name": "python",
   "nbconvert_exporter": "python",
   "pygments_lexer": "ipython3",
   "version": "3.11.5"
  }
 },
 "nbformat": 4,
 "nbformat_minor": 5
}
