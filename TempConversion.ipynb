{
 "cells": [
  {
   "cell_type": "markdown",
   "id": "1e908f5f",
   "metadata": {},
   "source": [
    "# Temp conversion from Fahrenheit to celsius"
   ]
  },
  {
   "cell_type": "markdown",
   "id": "5fa1a03b",
   "metadata": {},
   "source": [
    "Write a python program that converts a temperature in degrees in farenheit to degrees celcius\n",
    "the program should take user input as temp farenheit perform the conversion and display result in  \n",
    "celsius =( fahrenheit - 32) * 5/9"
   ]
  },
  {
   "cell_type": "code",
   "execution_count": 6,
   "id": "1a00a013",
   "metadata": {},
   "outputs": [
    {
     "name": "stdout",
     "output_type": "stream",
     "text": [
      "Enter Temperature in Fahrenheit97\n",
      "97.0° Fahrenheit is equal to 36.111° Celsius.\n"
     ]
    }
   ],
   "source": [
    "fahrenheit = float(input(\"Enter Temperature in Fahrenheit\"))\n",
    "\n",
    "# Formula to convert temperatrue from fahrenheit to celsius\n",
    "\n",
    "celsius = (fahrenheit - 32) * 5/9\n",
    "\n",
    "#Display result\n",
    "print(f\"{fahrenheit}° Fahrenheit is equal to {celsius:.3f}° Celsius.\")"
   ]
  },
  {
   "cell_type": "markdown",
   "id": "2116bebf",
   "metadata": {},
   "source": [
    "# Temp conversion from Celsius to Fahrenheit "
   ]
  },
  {
   "cell_type": "code",
   "execution_count": 8,
   "id": "e58f6bcc",
   "metadata": {},
   "outputs": [
    {
     "name": "stdout",
     "output_type": "stream",
     "text": [
      "Enter Temperature in celsius37\n",
      "37.0° Celsius is equal to98.60° fahrenheit.\n"
     ]
    }
   ],
   "source": [
    "Celsius = float(input(\"Enter Temperature in celsius\"))\n",
    "\n",
    "fahrenheit = (Celsius * 9/5) + 32\n",
    "\n",
    "#Display Result\n",
    "print(f\"{Celsius}° Celsius is equal to{fahrenheit:.2f}° fahrenheit.\")"
   ]
  }
 ],
 "metadata": {
  "kernelspec": {
   "display_name": "Python 3 (ipykernel)",
   "language": "python",
   "name": "python3"
  },
  "language_info": {
   "codemirror_mode": {
    "name": "ipython",
    "version": 3
   },
   "file_extension": ".py",
   "mimetype": "text/x-python",
   "name": "python",
   "nbconvert_exporter": "python",
   "pygments_lexer": "ipython3",
   "version": "3.11.5"
  }
 },
 "nbformat": 4,
 "nbformat_minor": 5
}
